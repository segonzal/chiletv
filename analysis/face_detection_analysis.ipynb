{
 "cells": [
  {
   "cell_type": "markdown",
   "id": "112453bf",
   "metadata": {},
   "source": [
    "# Face Detection Analysis\n",
    "\n",
    "On this notebook the important elements to analyse are:\n",
    "* **Detection time reltaive to frame rate and area:** The frame size and the total duration of the video impact on the time spent detecting. We can change the resolution but not the length of the video, instead we can change the frequency the detection happens.\n",
    "* **Face area relative to frame scale and frame size threshold:** Changing the resolution of the video can impact on the number of faces we detect.\n",
    "* **Content delta distribution to select threshold:** For the next stage of the pipeline a threshold is required for shot transitions."
   ]
  },
  {
   "cell_type": "code",
   "execution_count": null,
   "id": "f1cdd07f",
   "metadata": {},
   "outputs": [],
   "source": [
    "import json\n",
    "from pathlib import Path\n",
    "\n",
    "import numpy as np\n",
    "import pandas as pd\n",
    "import matplotlib.pyplot as plt"
   ]
  }
 ],
 "metadata": {
  "kernelspec": {
   "display_name": "Python 3 (ipykernel)",
   "language": "python",
   "name": "python3"
  },
  "language_info": {
   "codemirror_mode": {
    "name": "ipython",
    "version": 3
   },
   "file_extension": ".py",
   "mimetype": "text/x-python",
   "name": "python",
   "nbconvert_exporter": "python",
   "pygments_lexer": "ipython3",
   "version": "3.7.12"
  }
 },
 "nbformat": 4,
 "nbformat_minor": 5
}
