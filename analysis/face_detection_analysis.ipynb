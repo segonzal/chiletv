{
 "cells": [
  {
   "cell_type": "markdown",
   "id": "d679d1e7",
   "metadata": {},
   "source": [
    "# Face Detection Analysis\n",
    "\n",
    "On this notebook the important elements to analyse are:\n",
    "* **Detection time reltaive to frame rate and area:** The frame size and the total duration of the video impact on the time spent detecting. We can change the resolution but not the length of the video, instead we can change the frequency the detection happens.\n",
    "* **Face area relative to frame scale and frame size threshold:** Changing the resolution of the video can impact on the number of faces we detect.\n",
    "* **Content delta distribution to select threshold:** For the next stage of the pipeline a threshold is required for shot transitions."
   ]
  },
  {
   "cell_type": "code",
   "execution_count": 1,
   "id": "5c775a3f",
   "metadata": {},
   "outputs": [],
   "source": [
    "DETECTION_PATH = r'\\\\Desktop-0331tte\\d\\chiletv-testdata\\detection'\n",
    "DETECTION_CSV = r'..\\data\\face_detection_testdata.csv'\n",
    "DETECTION_COLUMNS = [\n",
    "    'video_id', 'frame_rate', 'batch_size', 'min_face_size', 'max_frame_size', 'frame_scale', 'width', 'height',\n",
    "    'video_length', 'detection_length']"
   ]
  },
  {
   "cell_type": "code",
   "execution_count": 2,
   "id": "5a5f8109",
   "metadata": {},
   "outputs": [],
   "source": [
    "import json\n",
    "from pathlib import Path\n",
    "\n",
    "import numpy as np\n",
    "import pandas as pd\n",
    "import seaborn as sns\n",
    "import matplotlib.pyplot as plt"
   ]
  },
  {
   "cell_type": "code",
   "execution_count": null,
   "id": "88674cf5",
   "metadata": {},
   "outputs": [],
   "source": [
    "def read_data(detection_path, detection_columns):\n",
    "    for file in Path(detection_path).glob(r'**/*.detections.json'):\n",
    "        with file.open('r', encoding='utf8') as fp:\n",
    "            obj = json.load(fp)\n",
    "            obj['video_id'] = file.name[:file.name.index('.')]\n",
    "            if 'frame_scale' not in obj:\n",
    "                obj['frame_scale'] = float(file.parent.name[1:file.parent.name.index('-')])\n",
    "            yield {key: obj[key] for key in detection_columns}\n",
    "\n",
    "csv_file = Path(DETECTION_CSV)\n",
    "if not csv_file.exists():\n",
    "    df = pd.DataFrame(read_data(DETECTION_PATH, DETECTION_COLUMNS))\n",
    "    df.to_csv(csv_file, index=False)\n",
    "else:\n",
    "    df = pd.read_csv(csv_file)\n",
    "df.head()"
   ]
  }
 ],
 "metadata": {
  "kernelspec": {
   "display_name": "Python 3 (ipykernel)",
   "language": "python",
   "name": "python3"
  },
  "language_info": {
   "codemirror_mode": {
    "name": "ipython",
    "version": 3
   },
   "file_extension": ".py",
   "mimetype": "text/x-python",
   "name": "python",
   "nbconvert_exporter": "python",
   "pygments_lexer": "ipython3",
   "version": "3.7.12"
  }
 },
 "nbformat": 4,
 "nbformat_minor": 5
}
