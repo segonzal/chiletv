{
 "cells": [
  {
   "cell_type": "markdown",
   "id": "0c035f2e",
   "metadata": {},
   "source": [
    "# Face Detection Analysis\n",
    "\n",
    "On this notebook the important elements to analyse are:\n",
    "* **Detection time relative to frame rate and area:** The frame size and the total duration of the video impact on the time spent detecting. We can change the resolution but not the length of the video, instead we can change the frequency the detection happens.\n",
    "* **Face area relative to frame scale and frame size threshold:** Changing the resolution of the video can impact on the number of faces we detect.\n",
    "* **Content delta distribution to select threshold:** For the next stage of the pipeline a threshold is required for shot transitions."
   ]
  },
  {
   "cell_type": "code",
   "execution_count": 1,
   "id": "25f8e1db",
   "metadata": {},
   "outputs": [],
   "source": [
    "import json\n",
    "from pathlib import Path\n",
    "from itertools import chain\n",
    "import numpy as np\n",
    "import pandas as pd\n",
    "from tqdm import tqdm\n",
    "import matplotlib.pyplot as plt\n",
    "plt.style.use('classic')\n",
    "%matplotlib inline\n",
    "import seaborn as sns\n",
    "sns.set()"
   ]
  },
  {
   "cell_type": "code",
   "execution_count": 2,
   "id": "5ee7671a",
   "metadata": {},
   "outputs": [],
   "source": [
    "def read_data(detection_path, data_fn):\n",
    "    files = list(Path(detection_path).glob(r'**/*.detections.json'))\n",
    "    loop = tqdm(files)\n",
    "    for file in loop:\n",
    "        with file.open('r', encoding='utf8') as fp:\n",
    "            try:\n",
    "                obj = json.load(fp)\n",
    "            except json.JSONDecodeError as err:\n",
    "                loop.write('ERROR:', file)\n",
    "                continue\n",
    "            for row in data_fn(file, obj):\n",
    "                yield row"
   ]
  },
  {
   "cell_type": "markdown",
   "id": "9aad99c8",
   "metadata": {},
   "source": [
    "## Detection time relative to frame rate and area"
   ]
  },
  {
   "cell_type": "code",
   "execution_count": null,
   "id": "84fedf00",
   "metadata": {},
   "outputs": [
    {
     "name": "stderr",
     "output_type": "stream",
     "text": [
      " 77%|██████████████████████████████████████████████████████████████████████▉                     | 463/600 [05:13<00:25,  5.34it/s]"
     ]
    }
   ],
   "source": [
    "def get_data(file, obj):\n",
    "    yield {\n",
    "        'video_id': file.name[:file.name.index('.')],\n",
    "        'frame_rate': obj['frame_rate'],\n",
    "        'area': obj['width'] * obj['height'],\n",
    "        'speedup': obj['video_length'] / obj['detection_length'],\n",
    "        'batch_size': obj['batch_size'],\n",
    "    }\n",
    "\n",
    "path = r'\\\\Desktop-0331tte\\d\\chiletv-testdata\\detection'\n",
    "df1 = pd.DataFrame(read_data(path, get_data))\n",
    "df1.head()"
   ]
  },
  {
   "cell_type": "code",
   "execution_count": null,
   "id": "f28e2332",
   "metadata": {},
   "outputs": [],
   "source": [
    "g = sns.catplot(data=df1, kind='bar', x='area', y='speedup', hue='frame_rate', ci='sd', height=7, aspect=1.618)\n",
    "g._legend.set_title('Frame Rate')\n",
    "g.set(xlabel='Area', ylabel='Speedup')\n",
    "\n",
    "plt.savefig('images/speedup_by_frame_rate.svg', bbox_inches='tight')\n",
    "plt.savefig('images/speedup_by_frame_rate.png', bbox_inches='tight')"
   ]
  },
  {
   "cell_type": "markdown",
   "id": "82049ca8",
   "metadata": {},
   "source": [
    "**Figure \\[speedup_by_frame_rate]:** A decrease in the frame rate does improve the time spent detecting faces. The bin which would contain the videos with a resolution of 550x550 is highlithed."
   ]
  },
  {
   "cell_type": "code",
   "execution_count": null,
   "id": "acc781f7",
   "metadata": {},
   "outputs": [],
   "source": [
    "g = sns.scatterplot(data=df1, x='area', y='batch_size', hue='frame_rate')\n",
    "g.set(xscale='log')"
   ]
  },
  {
   "cell_type": "markdown",
   "id": "c08ce40f",
   "metadata": {},
   "source": [
    "## Face area relative to frame scale and frame size threshold"
   ]
  },
  {
   "cell_type": "code",
   "execution_count": null,
   "id": "56667938",
   "metadata": {},
   "outputs": [],
   "source": [
    "def get_data(file, obj):\n",
    "    row = {\n",
    "        'video_id': file.name[:file.name.index('.')],\n",
    "        'folder': file.parent.name,\n",
    "        'frame_scale': obj.get('frame_scale', float(file.parent.name[1:file.parent.name.index('-')])),\n",
    "    }\n",
    "    for bbox_list in obj['bounding_box']:\n",
    "        for bbox in bbox_list:\n",
    "            # row['bbox_area'] = ((bbox[2] - bbox[0]) / obj['width']) * ((bbox[3] - bbox[1]) / obj['height'])\n",
    "            row['bbox_width'] = bbox[2] - bbox[0]\n",
    "            row['bbox_height'] = bbox[3] - bbox[1]\n",
    "            yield row.copy()\n",
    "\n",
    "path = r'\\\\Desktop-0331tte\\d\\chiletv-testdata\\det-scale'\n",
    "df2 = pd.DataFrame(read_data(path, get_data))\n",
    "df2.head()"
   ]
  },
  {
   "cell_type": "code",
   "execution_count": null,
   "id": "331e16dc",
   "metadata": {},
   "outputs": [],
   "source": [
    "df2['bbox_area'] = df2['bbox_width'] * df2['bbox_height']\n"
   ]
  },
  {
   "cell_type": "code",
   "execution_count": null,
   "id": "1af61926",
   "metadata": {},
   "outputs": [],
   "source": [
    "g = sns.barplot(x='frame_scale', y='bbox_area', data=df2, estimator=len)\n",
    "g.set(xlabel='Frame scale', ylabel='Number of faces')"
   ]
  },
  {
   "cell_type": "code",
   "execution_count": null,
   "id": "2391b1ea",
   "metadata": {
    "scrolled": false
   },
   "outputs": [],
   "source": [
    "mean = df2['bbox_area'].mean()\n",
    "std = df2['bbox_area'].std()\n",
    "g = sns.FacetGrid(df2[df2['bbox_area'] < mean+std], row='folder', aspect=1.618, sharex=True, sharey=True)\n",
    "g.map_dataframe(sns.histplot, x='bbox_area', bins=20)\n",
    "g.set(xlabel='Face area', ylabel='Number of faces')"
   ]
  },
  {
   "cell_type": "markdown",
   "id": "dfd66dc2",
   "metadata": {},
   "source": [
    "## Content delta distribution to select threshold"
   ]
  },
  {
   "cell_type": "code",
   "execution_count": null,
   "id": "85982f9a",
   "metadata": {},
   "outputs": [],
   "source": [
    "def get_data(file, obj):\n",
    "    video_id = file.name[:file.name.index('.')]\n",
    "    fps = int(obj['frame_rate'])\n",
    "    \n",
    "    t_array = np.float32(obj['time'])\n",
    "    c_array = np.float32(obj['content_delta'])\n",
    "    t_array = t_array / t_array.max()\n",
    "    \n",
    "    for t, c in zip(t_array, c_array):\n",
    "        yield {'video_id':video_id, 'frame_rate':fps, 'time':t, 'content_delta':c}\n",
    "\n",
    "path = r'\\\\Desktop-0331tte\\d\\chiletv-testdata\\detection'\n",
    "df3 = pd.DataFrame(read_data(path, get_data))\n",
    "df3.head()"
   ]
  },
  {
   "cell_type": "code",
   "execution_count": null,
   "id": "3cb4c5a1",
   "metadata": {},
   "outputs": [],
   "source": [
    "def my_graph(fn):\n",
    "    def wraped_fn(**kwargs):\n",
    "        g = fn(**kwargs)\n",
    "\n",
    "        y = kwargs['data'][kwargs['y']]\n",
    "\n",
    "        threshold_1 = 0.75 * np.max(y)\n",
    "        yt = y[y > threshold_1]\n",
    "        threshold_2 = np.mean(yt) - 2 * np.std(yt)\n",
    "        threshold_3 = 130\n",
    "\n",
    "        g.axhline(y=threshold_1, linestyle='--', color='red', label=r'$\\tau_1=max(y)$')\n",
    "        g.axhline(y=threshold_2, linestyle='--', color='orange', label=r'$\\tau_2=\\mu+\\sigma$')\n",
    "        g.axhline(y=threshold_3, linestyle='--', color='green', label=r'$\\tau_3=130$')\n",
    "    return wraped_fn"
   ]
  },
  {
   "cell_type": "code",
   "execution_count": null,
   "id": "3029d434",
   "metadata": {},
   "outputs": [],
   "source": [
    "g = sns.FacetGrid(df3,\n",
    "                  col='frame_rate',\n",
    "                  height=5,\n",
    "                  aspect=1/1.618,\n",
    "                  sharey=True)\n",
    "g.map_dataframe(my_graph(sns.histplot), y='content_delta', log_scale=(True, False), bins=100)\n",
    "g.set(ylabel='Content Delta')\n",
    "g.add_legend(loc='lower center', ncol=3, bbox_to_anchor=(0.4, -0.05))"
   ]
  },
  {
   "cell_type": "code",
   "execution_count": null,
   "id": "ed30bd99",
   "metadata": {},
   "outputs": [],
   "source": [
    "file_names = ['0yTEcgQNoQo', 'b85zz8XkVO4', 'FD7ASrSrQk4', 'gQY-5f_w6oU']\n",
    "df3_ = df3[df3['video_id'].isin(file_names)]"
   ]
  },
  {
   "cell_type": "code",
   "execution_count": null,
   "id": "e84689df",
   "metadata": {},
   "outputs": [],
   "source": [
    "g = sns.FacetGrid(df3_,\n",
    "                  row='video_id',\n",
    "                  col='frame_rate',\n",
    "                  height=7,\n",
    "                  aspect=1/1.618,\n",
    "                  sharey=True)\n",
    "g.map_dataframe(my_graph(sns.histplot), y='content_delta', log_scale=(True, False), bins=100)\n",
    "g.set(ylabel='Content Delta')\n",
    "g.add_legend(loc='lower center', ncol=3, bbox_to_anchor=(0.4, -0.05))"
   ]
  },
  {
   "cell_type": "code",
   "execution_count": null,
   "id": "e17654e3",
   "metadata": {},
   "outputs": [],
   "source": [
    "g = sns.FacetGrid(df3_,\n",
    "                  row='video_id',\n",
    "                  col='frame_rate',\n",
    "                  height=3,\n",
    "                  aspect=1.618,\n",
    "                  sharey=True)\n",
    "g.map_dataframe(my_graph(sns.scatterplot), x='time', y='content_delta')\n",
    "g.set(xlabel='Time', ylabel='Content Delta', xlim=(0,1), ylim=(0,160))\n",
    "g.add_legend(loc='lower center', ncol=3, bbox_to_anchor=(0.4, -0.05))"
   ]
  }
 ],
 "metadata": {
  "kernelspec": {
   "display_name": "Python 3 (ipykernel)",
   "language": "python",
   "name": "python3"
  },
  "language_info": {
   "codemirror_mode": {
    "name": "ipython",
    "version": 3
   },
   "file_extension": ".py",
   "mimetype": "text/x-python",
   "name": "python",
   "nbconvert_exporter": "python",
   "pygments_lexer": "ipython3",
   "version": "3.7.12"
  }
 },
 "nbformat": 4,
 "nbformat_minor": 5
}
