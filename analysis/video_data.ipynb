{
 "cells": [
  {
   "cell_type": "code",
   "execution_count": null,
   "id": "0a82a452",
   "metadata": {},
   "outputs": [],
   "source": [
    "%matplotlib inline\n",
    "\n",
    "import subprocess\n",
    "from pathlib import Path\n",
    "from itertools import chain\n",
    "from datetime import timedelta\n",
    "\n",
    "import pandas as pd\n",
    "import matplotlib.pyplot as plt\n",
    "from tqdm import tqdm\n",
    "\n",
    "VIDEO_SRC = [r'D:\\downloads\\test_videos', r'D:\\downloads\\poi']\n",
    "VIDEO_CSV = '../data/video_metadata.csv'"
   ]
  },
  {
   "cell_type": "code",
   "execution_count": null,
   "id": "5dd1d189",
   "metadata": {},
   "outputs": [],
   "source": [
    "def get_video_data(video: Path, prefix='original-'):\n",
    "    name = video.stem\n",
    "    p = subprocess.run(['ffprobe', '-v', 'quiet', '-of', 'default=nw=1:nk=1',\n",
    "                        '-show_entries', 'format=duration:stream=width,height',\n",
    "                        str(video)], capture_output=True)\n",
    "    width, height, duration = p.stdout.strip().split()\n",
    "    name = name[len(prefix):] if name.startswith(prefix) else name\n",
    "    width = int(width)\n",
    "    height = int(height)\n",
    "    duration = float(duration) if duration not in (b'', b'N/A') else 0.0\n",
    "    return name, width, height, width*height, duration\n",
    "\n",
    "video_src = Path(VIDEO_CSV)\n",
    "column_types = [('video_id', str), ('width', int), ('height', int), ('area', int), ('duration', float)]\n",
    "if video_src.exists():\n",
    "    df = pd.read_csv(video_src, index_col=0, dtype=dict(column_types))\n",
    "else:\n",
    "    df = pd.DataFrame((get_video_data(video) for video in tqdm(chain(*[Path(p).glob('**\\*.mp4') for p in VIDEO_SRC]))),\n",
    "                      columns=[n for n, t in coumn_types])\n",
    "    df.to_csv(video_src)\n",
    "df.head()"
   ]
  },
  {
   "cell_type": "code",
   "execution_count": null,
   "id": "ce91af54",
   "metadata": {
    "scrolled": false
   },
   "outputs": [],
   "source": [
    "df.describe()"
   ]
  },
  {
   "cell_type": "code",
   "execution_count": null,
   "id": "067cc8fb",
   "metadata": {},
   "outputs": [],
   "source": [
    "duration = df['duration'].sum()\n",
    "print(f\"Total length of footage: {timedelta(seconds=duration)} ({duration} seconds)\")"
   ]
  },
  {
   "cell_type": "code",
   "execution_count": null,
   "id": "546699df",
   "metadata": {},
   "outputs": [],
   "source": [
    "fig = plt.figure()\n",
    "ax = plt.axes()\n",
    "df['duration'].plot(kind='hist', bins=20, title='Video distribution by Length', figsize=(9, 5), edgecolor='black', ax=ax)\n",
    "plt.xlabel('Video length in seconds')\n",
    "plt.show()"
   ]
  }
 ],
 "metadata": {
  "kernelspec": {
   "display_name": "Python 3 (ipykernel)",
   "language": "python",
   "name": "python3"
  },
  "language_info": {
   "codemirror_mode": {
    "name": "ipython",
    "version": 3
   },
   "file_extension": ".py",
   "mimetype": "text/x-python",
   "name": "python",
   "nbconvert_exporter": "python",
   "pygments_lexer": "ipython3",
   "version": "3.7.12"
  }
 },
 "nbformat": 4,
 "nbformat_minor": 5
}
