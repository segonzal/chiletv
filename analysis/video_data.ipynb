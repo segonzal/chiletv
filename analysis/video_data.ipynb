{
 "cells": [
  {
   "cell_type": "markdown",
   "id": "b14e1b8e",
   "metadata": {},
   "source": [
    "# Raw Video analysis\n",
    "On this notebook we analize the downloaded videos before processing them. The downloaded videos amount to 8303 files, adding up to 121 days and 9:29:38 hours. Most videos have a length under half an hour, peaking at the 10 minute mark. The audio and vieo channels were separated and recoded before face detection. All videos use the *h264* codec with a frame rate of 30FPS, while the audio used the *pcm_s16le* codec with a bitrate of 16k for a mono-channeled audio."
   ]
  },
  {
   "cell_type": "code",
   "execution_count": 1,
   "id": "0a82a452",
   "metadata": {},
   "outputs": [],
   "source": [
    "%matplotlib inline\n",
    "\n",
    "import subprocess\n",
    "from pathlib import Path\n",
    "from itertools import chain, islice\n",
    "from datetime import timedelta\n",
    "\n",
    "import numpy as np\n",
    "import pandas as pd\n",
    "import matplotlib.pyplot as plt\n",
    "from tqdm import tqdm\n",
    "\n",
    "VIDEO_SRC = [r'D:\\downloads\\test_videos', r'D:\\downloads\\src_videos']\n",
    "VIDEO_CSV = '../data/video_metadata.csv'"
   ]
  },
  {
   "cell_type": "code",
   "execution_count": 2,
   "id": "5dd1d189",
   "metadata": {},
   "outputs": [
    {
     "data": {
      "text/html": [
       "<div>\n",
       "<style scoped>\n",
       "    .dataframe tbody tr th:only-of-type {\n",
       "        vertical-align: middle;\n",
       "    }\n",
       "\n",
       "    .dataframe tbody tr th {\n",
       "        vertical-align: top;\n",
       "    }\n",
       "\n",
       "    .dataframe thead th {\n",
       "        text-align: right;\n",
       "    }\n",
       "</style>\n",
       "<table border=\"1\" class=\"dataframe\">\n",
       "  <thead>\n",
       "    <tr style=\"text-align: right;\">\n",
       "      <th></th>\n",
       "      <th>video_id</th>\n",
       "      <th>width</th>\n",
       "      <th>height</th>\n",
       "      <th>duration</th>\n",
       "    </tr>\n",
       "  </thead>\n",
       "  <tbody>\n",
       "    <tr>\n",
       "      <th>0</th>\n",
       "      <td>2VyGGNnp_BA</td>\n",
       "      <td>1280</td>\n",
       "      <td>720</td>\n",
       "      <td>60.767</td>\n",
       "    </tr>\n",
       "    <tr>\n",
       "      <th>1</th>\n",
       "      <td>V2PFuZQK12s</td>\n",
       "      <td>654</td>\n",
       "      <td>480</td>\n",
       "      <td>322.549</td>\n",
       "    </tr>\n",
       "    <tr>\n",
       "      <th>2</th>\n",
       "      <td>j-LMcmS7QT0</td>\n",
       "      <td>1280</td>\n",
       "      <td>720</td>\n",
       "      <td>322.688</td>\n",
       "    </tr>\n",
       "    <tr>\n",
       "      <th>3</th>\n",
       "      <td>WET2G_JzQyA</td>\n",
       "      <td>1920</td>\n",
       "      <td>1080</td>\n",
       "      <td>322.804</td>\n",
       "    </tr>\n",
       "    <tr>\n",
       "      <th>4</th>\n",
       "      <td>ZBVp8uDwfbI</td>\n",
       "      <td>320</td>\n",
       "      <td>240</td>\n",
       "      <td>322.873</td>\n",
       "    </tr>\n",
       "  </tbody>\n",
       "</table>\n",
       "</div>"
      ],
      "text/plain": [
       "      video_id  width  height  duration\n",
       "0  2VyGGNnp_BA   1280     720    60.767\n",
       "1  V2PFuZQK12s    654     480   322.549\n",
       "2  j-LMcmS7QT0   1280     720   322.688\n",
       "3  WET2G_JzQyA   1920    1080   322.804\n",
       "4  ZBVp8uDwfbI    320     240   322.873"
      ]
     },
     "execution_count": 2,
     "metadata": {},
     "output_type": "execute_result"
    }
   ],
   "source": [
    "def get_video_data(video: Path, prefix='original-'):\n",
    "    name = video.stem\n",
    "    p = subprocess.run(['ffprobe', '-v', 'quiet', '-of', 'default=nw=1:nk=1',\n",
    "                        '-show_entries', 'format=duration:stream=width,height',\n",
    "                        str(video)], capture_output=True)\n",
    "    width, height, duration = p.stdout.strip().split()\n",
    "    name = name[len(prefix):] if name.startswith(prefix) else name\n",
    "    width = int(width)\n",
    "    height = int(height)\n",
    "    duration = float(duration) if duration not in (b'', b'N/A') else 0.0\n",
    "    return name, width, height, duration\n",
    "\n",
    "video_src = Path(VIDEO_CSV)\n",
    "column_types = [('video_id', str), ('width', int), ('height', int), ('duration', float)]\n",
    "if video_src.exists():\n",
    "    df = pd.read_csv(video_src, index_col=0, dtype=dict(column_types))\n",
    "else:\n",
    "    df = pd.DataFrame((get_video_data(video) for video in tqdm(chain(*[Path(p).glob('**\\*.mp4') for p in VIDEO_SRC]))),\n",
    "                      columns=[n for n, t in coumn_types])\n",
    "    df.to_csv(video_src)\n",
    "df.head()"
   ]
  },
  {
   "cell_type": "code",
   "execution_count": 3,
   "id": "ce91af54",
   "metadata": {
    "scrolled": false
   },
   "outputs": [
    {
     "data": {
      "text/html": [
       "<div>\n",
       "<style scoped>\n",
       "    .dataframe tbody tr th:only-of-type {\n",
       "        vertical-align: middle;\n",
       "    }\n",
       "\n",
       "    .dataframe tbody tr th {\n",
       "        vertical-align: top;\n",
       "    }\n",
       "\n",
       "    .dataframe thead th {\n",
       "        text-align: right;\n",
       "    }\n",
       "</style>\n",
       "<table border=\"1\" class=\"dataframe\">\n",
       "  <thead>\n",
       "    <tr style=\"text-align: right;\">\n",
       "      <th></th>\n",
       "      <th>width</th>\n",
       "      <th>height</th>\n",
       "      <th>duration</th>\n",
       "    </tr>\n",
       "  </thead>\n",
       "  <tbody>\n",
       "    <tr>\n",
       "      <th>count</th>\n",
       "      <td>8303.000000</td>\n",
       "      <td>8303.000000</td>\n",
       "      <td>8303.000000</td>\n",
       "    </tr>\n",
       "    <tr>\n",
       "      <th>mean</th>\n",
       "      <td>1215.051909</td>\n",
       "      <td>707.280260</td>\n",
       "      <td>1263.227588</td>\n",
       "    </tr>\n",
       "    <tr>\n",
       "      <th>std</th>\n",
       "      <td>535.773018</td>\n",
       "      <td>278.533416</td>\n",
       "      <td>906.510705</td>\n",
       "    </tr>\n",
       "    <tr>\n",
       "      <th>min</th>\n",
       "      <td>166.000000</td>\n",
       "      <td>144.000000</td>\n",
       "      <td>60.767000</td>\n",
       "    </tr>\n",
       "    <tr>\n",
       "      <th>25%</th>\n",
       "      <td>640.000000</td>\n",
       "      <td>480.000000</td>\n",
       "      <td>577.028000</td>\n",
       "    </tr>\n",
       "    <tr>\n",
       "      <th>50%</th>\n",
       "      <td>1280.000000</td>\n",
       "      <td>720.000000</td>\n",
       "      <td>901.399000</td>\n",
       "    </tr>\n",
       "    <tr>\n",
       "      <th>75%</th>\n",
       "      <td>1920.000000</td>\n",
       "      <td>1080.000000</td>\n",
       "      <td>1695.138500</td>\n",
       "    </tr>\n",
       "    <tr>\n",
       "      <th>max</th>\n",
       "      <td>3840.000000</td>\n",
       "      <td>2160.000000</td>\n",
       "      <td>3599.419000</td>\n",
       "    </tr>\n",
       "  </tbody>\n",
       "</table>\n",
       "</div>"
      ],
      "text/plain": [
       "             width       height     duration\n",
       "count  8303.000000  8303.000000  8303.000000\n",
       "mean   1215.051909   707.280260  1263.227588\n",
       "std     535.773018   278.533416   906.510705\n",
       "min     166.000000   144.000000    60.767000\n",
       "25%     640.000000   480.000000   577.028000\n",
       "50%    1280.000000   720.000000   901.399000\n",
       "75%    1920.000000  1080.000000  1695.138500\n",
       "max    3840.000000  2160.000000  3599.419000"
      ]
     },
     "execution_count": 3,
     "metadata": {},
     "output_type": "execute_result"
    }
   ],
   "source": [
    "df.describe()"
   ]
  },
  {
   "cell_type": "code",
   "execution_count": 4,
   "id": "067cc8fb",
   "metadata": {},
   "outputs": [
    {
     "name": "stdout",
     "output_type": "stream",
     "text": [
      "Total length of footage: 121 days, 9:29:38.667000 (10488578.667 seconds)\n"
     ]
    }
   ],
   "source": [
    "duration = df['duration'].sum()\n",
    "print(f\"Total length of footage: {timedelta(seconds=duration)} ({duration} seconds)\")"
   ]
  },
  {
   "cell_type": "code",
   "execution_count": 5,
   "id": "546699df",
   "metadata": {},
   "outputs": [
    {
     "data": {
      "image/png": "[encoded data removed]",
      "text/plain": [
       "<Figure size 648x360 with 1 Axes>"
      ]
     },
     "metadata": {
      "needs_background": "light"
     },
     "output_type": "display_data"
    }
   ],
   "source": [
    "height, bins = np.histogram(df['duration'].values, bins=10, range=(0, 3600))\n",
    "widths = bins[:-1] - bins[1:]\n",
    "labels = [str(timedelta(seconds=s))[:4] for s in bins[1:]]\n",
    "\n",
    "fig = plt.figure(figsize=(9, 5))\n",
    "plt.bar(bins[:-1], height, width=widths, edgecolor='black', tick_label=labels, align='edge')\n",
    "plt.title('Video distribution by Length')\n",
    "plt.xlabel('Video length')\n",
    "plt.show()"
   ]
  },
  {
   "cell_type": "code",
   "execution_count": 6,
   "id": "574837e2",
   "metadata": {},
   "outputs": [
    {
     "data": {
      "text/html": [
       "<div>\n",
       "<style scoped>\n",
       "    .dataframe tbody tr th:only-of-type {\n",
       "        vertical-align: middle;\n",
       "    }\n",
       "\n",
       "    .dataframe tbody tr th {\n",
       "        vertical-align: top;\n",
       "    }\n",
       "\n",
       "    .dataframe thead th {\n",
       "        text-align: right;\n",
       "    }\n",
       "</style>\n",
       "<table border=\"1\" class=\"dataframe\">\n",
       "  <thead>\n",
       "    <tr style=\"text-align: right;\">\n",
       "      <th></th>\n",
       "      <th>width</th>\n",
       "      <th>height</th>\n",
       "      <th>count</th>\n",
       "      <th>area</th>\n",
       "    </tr>\n",
       "  </thead>\n",
       "  <tbody>\n",
       "    <tr>\n",
       "      <th>0</th>\n",
       "      <td>1280</td>\n",
       "      <td>720</td>\n",
       "      <td>3168</td>\n",
       "      <td>921600</td>\n",
       "    </tr>\n",
       "    <tr>\n",
       "      <th>1</th>\n",
       "      <td>1920</td>\n",
       "      <td>1080</td>\n",
       "      <td>2205</td>\n",
       "      <td>2073600</td>\n",
       "    </tr>\n",
       "    <tr>\n",
       "      <th>2</th>\n",
       "      <td>640</td>\n",
       "      <td>360</td>\n",
       "      <td>662</td>\n",
       "      <td>230400</td>\n",
       "    </tr>\n",
       "    <tr>\n",
       "      <th>3</th>\n",
       "      <td>640</td>\n",
       "      <td>480</td>\n",
       "      <td>485</td>\n",
       "      <td>307200</td>\n",
       "    </tr>\n",
       "    <tr>\n",
       "      <th>4</th>\n",
       "      <td>480</td>\n",
       "      <td>360</td>\n",
       "      <td>297</td>\n",
       "      <td>172800</td>\n",
       "    </tr>\n",
       "    <tr>\n",
       "      <th>5</th>\n",
       "      <td>854</td>\n",
       "      <td>480</td>\n",
       "      <td>289</td>\n",
       "      <td>409920</td>\n",
       "    </tr>\n",
       "    <tr>\n",
       "      <th>6</th>\n",
       "      <td>316</td>\n",
       "      <td>240</td>\n",
       "      <td>221</td>\n",
       "      <td>75840</td>\n",
       "    </tr>\n",
       "    <tr>\n",
       "      <th>7</th>\n",
       "      <td>320</td>\n",
       "      <td>240</td>\n",
       "      <td>198</td>\n",
       "      <td>76800</td>\n",
       "    </tr>\n",
       "    <tr>\n",
       "      <th>8</th>\n",
       "      <td>720</td>\n",
       "      <td>480</td>\n",
       "      <td>95</td>\n",
       "      <td>345600</td>\n",
       "    </tr>\n",
       "    <tr>\n",
       "      <th>9</th>\n",
       "      <td>654</td>\n",
       "      <td>480</td>\n",
       "      <td>44</td>\n",
       "      <td>313920</td>\n",
       "    </tr>\n",
       "  </tbody>\n",
       "</table>\n",
       "</div>"
      ],
      "text/plain": [
       "   width  height  count     area\n",
       "0   1280     720   3168   921600\n",
       "1   1920    1080   2205  2073600\n",
       "2    640     360    662   230400\n",
       "3    640     480    485   307200\n",
       "4    480     360    297   172800\n",
       "5    854     480    289   409920\n",
       "6    316     240    221    75840\n",
       "7    320     240    198    76800\n",
       "8    720     480     95   345600\n",
       "9    654     480     44   313920"
      ]
     },
     "execution_count": 6,
     "metadata": {},
     "output_type": "execute_result"
    }
   ],
   "source": [
    "# Find the most frequent resolutions\n",
    "df_area = df[['video_id', 'width', 'height']].groupby(['width', 'height']).count()\n",
    "df_area.reset_index(inplace=True)\n",
    "df_area.rename(columns = {'video_id':'count'}, inplace=True)\n",
    "df_area['area'] = df_area['width'] * df_area['height']\n",
    "df_area.sort_values('count', ascending=False, inplace=True, ignore_index=True)\n",
    "df_area.head(10)"
   ]
  },
  {
   "cell_type": "code",
   "execution_count": 7,
   "id": "b0b2b4c5",
   "metadata": {},
   "outputs": [
    {
     "data": {
      "image/png": "[encoded data removed]",
      "text/plain": [
       "<Figure size 648x360 with 1 Axes>"
      ]
     },
     "metadata": {
      "needs_background": "light"
     },
     "output_type": "display_data"
    }
   ],
   "source": [
    "df_area.sort_values('count', ascending=False, inplace=True, ignore_index=True)\n",
    "\n",
    "fig = plt.figure(figsize=(9, 5))\n",
    "\n",
    "plt.scatter(df_area['area'], df_area['count'])\n",
    "\n",
    "for width, height, count, area in df_area.iloc[:5, :].values:\n",
    "    plt.text(area, count, f\"{width}x{height}\")\n",
    "\n",
    "plt.xscale('log')\n",
    "plt.title('Video distribution by Area')\n",
    "plt.xlabel('Area (log)')\n",
    "plt.show()"
   ]
  },
  {
   "cell_type": "code",
   "execution_count": 8,
   "id": "fd73d271",
   "metadata": {
    "scrolled": true
   },
   "outputs": [
    {
     "data": {
      "text/html": [
       "<div>\n",
       "<style scoped>\n",
       "    .dataframe tbody tr th:only-of-type {\n",
       "        vertical-align: middle;\n",
       "    }\n",
       "\n",
       "    .dataframe tbody tr th {\n",
       "        vertical-align: top;\n",
       "    }\n",
       "\n",
       "    .dataframe thead th {\n",
       "        text-align: right;\n",
       "    }\n",
       "</style>\n",
       "<table border=\"1\" class=\"dataframe\">\n",
       "  <thead>\n",
       "    <tr style=\"text-align: right;\">\n",
       "      <th></th>\n",
       "      <th>width</th>\n",
       "      <th>height</th>\n",
       "      <th>count</th>\n",
       "      <th>area</th>\n",
       "    </tr>\n",
       "  </thead>\n",
       "  <tbody>\n",
       "    <tr>\n",
       "      <th>count</th>\n",
       "      <td>206.000000</td>\n",
       "      <td>206.000000</td>\n",
       "      <td>206.000000</td>\n",
       "      <td>2.060000e+02</td>\n",
       "    </tr>\n",
       "    <tr>\n",
       "      <th>mean</th>\n",
       "      <td>741.728155</td>\n",
       "      <td>520.776699</td>\n",
       "      <td>40.305825</td>\n",
       "      <td>4.903642e+05</td>\n",
       "    </tr>\n",
       "    <tr>\n",
       "      <th>std</th>\n",
       "      <td>491.581900</td>\n",
       "      <td>294.240284</td>\n",
       "      <td>275.119377</td>\n",
       "      <td>7.307362e+05</td>\n",
       "    </tr>\n",
       "    <tr>\n",
       "      <th>min</th>\n",
       "      <td>166.000000</td>\n",
       "      <td>144.000000</td>\n",
       "      <td>1.000000</td>\n",
       "      <td>2.822400e+04</td>\n",
       "    </tr>\n",
       "    <tr>\n",
       "      <th>25%</th>\n",
       "      <td>418.500000</td>\n",
       "      <td>320.000000</td>\n",
       "      <td>1.000000</td>\n",
       "      <td>1.347200e+05</td>\n",
       "    </tr>\n",
       "    <tr>\n",
       "      <th>50%</th>\n",
       "      <td>633.000000</td>\n",
       "      <td>475.000000</td>\n",
       "      <td>1.000000</td>\n",
       "      <td>2.829600e+05</td>\n",
       "    </tr>\n",
       "    <tr>\n",
       "      <th>75%</th>\n",
       "      <td>854.000000</td>\n",
       "      <td>720.000000</td>\n",
       "      <td>3.750000</td>\n",
       "      <td>5.821200e+05</td>\n",
       "    </tr>\n",
       "    <tr>\n",
       "      <th>max</th>\n",
       "      <td>3840.000000</td>\n",
       "      <td>2160.000000</td>\n",
       "      <td>3168.000000</td>\n",
       "      <td>8.294400e+06</td>\n",
       "    </tr>\n",
       "  </tbody>\n",
       "</table>\n",
       "</div>"
      ],
      "text/plain": [
       "             width       height        count          area\n",
       "count   206.000000   206.000000   206.000000  2.060000e+02\n",
       "mean    741.728155   520.776699    40.305825  4.903642e+05\n",
       "std     491.581900   294.240284   275.119377  7.307362e+05\n",
       "min     166.000000   144.000000     1.000000  2.822400e+04\n",
       "25%     418.500000   320.000000     1.000000  1.347200e+05\n",
       "50%     633.000000   475.000000     1.000000  2.829600e+05\n",
       "75%     854.000000   720.000000     3.750000  5.821200e+05\n",
       "max    3840.000000  2160.000000  3168.000000  8.294400e+06"
      ]
     },
     "execution_count": 8,
     "metadata": {},
     "output_type": "execute_result"
    }
   ],
   "source": [
    "df_area.describe()"
   ]
  },
  {
   "cell_type": "code",
   "execution_count": 38,
   "id": "e6a3809b",
   "metadata": {},
   "outputs": [
    {
     "data": {
      "image/png": "[encoded data removed]",
      "text/plain": [
       "<Figure size 648x360 with 1 Axes>"
      ]
     },
     "metadata": {
      "needs_background": "light"
     },
     "output_type": "display_data"
    }
   ],
   "source": [
    "df_area.sort_values('area', ascending=True, inplace=True, ignore_index=True)\n",
    "\n",
    "width, height, count, area = df_area.values.T\n",
    "count = np.cumsum(count)\n",
    "max_value = count.max()\n",
    "\n",
    "fig = plt.figure(figsize=(9, 5))\n",
    "plt.plot(area, count, linestyle='--', marker='x')\n",
    "for p in [0.25, 0.5, 0.75]:\n",
    "    pv = p * max_value\n",
    "    i = np.argmax(count>pv)    \n",
    "    plt.text(area[i] + 500, count[i] - 400, f\"{width[i]}x{height[i]}\")\n",
    "    plt.text(area[i-1] + 500, count[i-1] - 400, f\"{width[i-1]}x{height[i-1]}\")\n",
    "    \n",
    "    plt.axhline(y=pv, color='r', linestyle='--')\n",
    "    plt.text(area[0], pv - 400, f\"{p:.0%}\")\n",
    "\n",
    "plt.xscale('log')\n",
    "plt.title('Video count by agreggate area')\n",
    "plt.xlabel('Area (log)')\n",
    "plt.show()"
   ]
  }
 ],
 "metadata": {
  "kernelspec": {
   "display_name": "Python 3 (ipykernel)",
   "language": "python",
   "name": "python3"
  },
  "language_info": {
   "codemirror_mode": {
    "name": "ipython",
    "version": 3
   },
   "file_extension": ".py",
   "mimetype": "text/x-python",
   "name": "python",
   "nbconvert_exporter": "python",
   "pygments_lexer": "ipython3",
   "version": "3.7.12"
  }
 },
 "nbformat": 4,
 "nbformat_minor": 5
}
