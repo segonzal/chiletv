{
 "cells": [
  {
   "cell_type": "markdown",
   "id": "b14e1b8e",
   "metadata": {},
   "source": [
    "# Raw Video analysis\n",
    "On this notebook we analize the downloaded videos before processing them. The downloaded videos amount to 8303 files, adding up to 121 days and 9:29:38 hours. Most videos have a length under half an hour, peaking at the 10 minute mark. The audio and vieo channels were separated and recoded before face detection. All videos use the *h264* codec with a frame rate of 30FPS, while the audio used the *pcm_s16le* codec with a bitrate of 16k for a mono-channeled audio."
   ]
  },
  {
   "cell_type": "code",
   "execution_count": 1,
   "id": "0a82a452",
   "metadata": {},
   "outputs": [],
   "source": [
    "%matplotlib inline\n",
    "\n",
    "import subprocess\n",
    "from pathlib import Path\n",
    "from itertools import chain\n",
    "from datetime import timedelta\n",
    "\n",
    "import numpy as np\n",
    "import pandas as pd\n",
    "import matplotlib.pyplot as plt\n",
    "from tqdm import tqdm\n",
    "\n",
    "VIDEO_SRC = [r'D:\\downloads\\test_videos', r'D:\\downloads\\src_videos']\n",
    "VIDEO_CSV = '../data/video_metadata.csv'"
   ]
  },
  {
   "cell_type": "code",
   "execution_count": 2,
   "id": "5dd1d189",
   "metadata": {},
   "outputs": [
    {
     "data": {
      "text/html": [
       "<div>\n",
       "<style scoped>\n",
       "    .dataframe tbody tr th:only-of-type {\n",
       "        vertical-align: middle;\n",
       "    }\n",
       "\n",
       "    .dataframe tbody tr th {\n",
       "        vertical-align: top;\n",
       "    }\n",
       "\n",
       "    .dataframe thead th {\n",
       "        text-align: right;\n",
       "    }\n",
       "</style>\n",
       "<table border=\"1\" class=\"dataframe\">\n",
       "  <thead>\n",
       "    <tr style=\"text-align: right;\">\n",
       "      <th></th>\n",
       "      <th>video_id</th>\n",
       "      <th>width</th>\n",
       "      <th>height</th>\n",
       "      <th>area</th>\n",
       "      <th>duration</th>\n",
       "    </tr>\n",
       "  </thead>\n",
       "  <tbody>\n",
       "    <tr>\n",
       "      <th>0</th>\n",
       "      <td>-75gXEApdNQ</td>\n",
       "      <td>1920</td>\n",
       "      <td>1080</td>\n",
       "      <td>2073600</td>\n",
       "      <td>482.400</td>\n",
       "    </tr>\n",
       "    <tr>\n",
       "      <th>1</th>\n",
       "      <td>0VrxAn-goEw</td>\n",
       "      <td>854</td>\n",
       "      <td>480</td>\n",
       "      <td>409920</td>\n",
       "      <td>536.567</td>\n",
       "    </tr>\n",
       "    <tr>\n",
       "      <th>2</th>\n",
       "      <td>0yTEcgQNoQo</td>\n",
       "      <td>470</td>\n",
       "      <td>360</td>\n",
       "      <td>169200</td>\n",
       "      <td>1332.000</td>\n",
       "    </tr>\n",
       "    <tr>\n",
       "      <th>3</th>\n",
       "      <td>1dCoXH61eyc</td>\n",
       "      <td>1280</td>\n",
       "      <td>720</td>\n",
       "      <td>921600</td>\n",
       "      <td>691.800</td>\n",
       "    </tr>\n",
       "    <tr>\n",
       "      <th>4</th>\n",
       "      <td>26wTw6UGoAY</td>\n",
       "      <td>1280</td>\n",
       "      <td>720</td>\n",
       "      <td>921600</td>\n",
       "      <td>1211.800</td>\n",
       "    </tr>\n",
       "  </tbody>\n",
       "</table>\n",
       "</div>"
      ],
      "text/plain": [
       "      video_id  width  height     area  duration\n",
       "0  -75gXEApdNQ   1920    1080  2073600   482.400\n",
       "1  0VrxAn-goEw    854     480   409920   536.567\n",
       "2  0yTEcgQNoQo    470     360   169200  1332.000\n",
       "3  1dCoXH61eyc   1280     720   921600   691.800\n",
       "4  26wTw6UGoAY   1280     720   921600  1211.800"
      ]
     },
     "execution_count": 2,
     "metadata": {},
     "output_type": "execute_result"
    }
   ],
   "source": [
    "def get_video_data(video: Path, prefix='original-'):\n",
    "    name = video.stem\n",
    "    p = subprocess.run(['ffprobe', '-v', 'quiet', '-of', 'default=nw=1:nk=1',\n",
    "                        '-show_entries', 'format=duration:stream=width,height',\n",
    "                        str(video)], capture_output=True)\n",
    "    width, height, duration = p.stdout.strip().split()\n",
    "    name = name[len(prefix):] if name.startswith(prefix) else name\n",
    "    width = int(width)\n",
    "    height = int(height)\n",
    "    duration = float(duration) if duration not in (b'', b'N/A') else 0.0\n",
    "    return name, width, height, width*height, duration\n",
    "\n",
    "video_src = Path(VIDEO_CSV)\n",
    "column_types = [('video_id', str), ('width', int), ('height', int), ('area', int), ('duration', float)]\n",
    "if video_src.exists():\n",
    "    df = pd.read_csv(video_src, index_col=0, dtype=dict(column_types))\n",
    "else:\n",
    "    df = pd.DataFrame((get_video_data(video) for video in tqdm(chain(*[Path(p).glob('**\\*.mp4') for p in VIDEO_SRC]))),\n",
    "                      columns=[n for n, t in coumn_types])\n",
    "    df.to_csv(video_src)\n",
    "df.head()"
   ]
  },
  {
   "cell_type": "code",
   "execution_count": 3,
   "id": "ce91af54",
   "metadata": {
    "scrolled": false
   },
   "outputs": [
    {
     "data": {
      "text/html": [
       "<div>\n",
       "<style scoped>\n",
       "    .dataframe tbody tr th:only-of-type {\n",
       "        vertical-align: middle;\n",
       "    }\n",
       "\n",
       "    .dataframe tbody tr th {\n",
       "        vertical-align: top;\n",
       "    }\n",
       "\n",
       "    .dataframe thead th {\n",
       "        text-align: right;\n",
       "    }\n",
       "</style>\n",
       "<table border=\"1\" class=\"dataframe\">\n",
       "  <thead>\n",
       "    <tr style=\"text-align: right;\">\n",
       "      <th></th>\n",
       "      <th>width</th>\n",
       "      <th>height</th>\n",
       "      <th>area</th>\n",
       "      <th>duration</th>\n",
       "    </tr>\n",
       "  </thead>\n",
       "  <tbody>\n",
       "    <tr>\n",
       "      <th>count</th>\n",
       "      <td>8303.000000</td>\n",
       "      <td>8303.000000</td>\n",
       "      <td>8.303000e+03</td>\n",
       "      <td>8303.000000</td>\n",
       "    </tr>\n",
       "    <tr>\n",
       "      <th>mean</th>\n",
       "      <td>1215.051909</td>\n",
       "      <td>707.280260</td>\n",
       "      <td>1.004648e+06</td>\n",
       "      <td>1263.227589</td>\n",
       "    </tr>\n",
       "    <tr>\n",
       "      <th>std</th>\n",
       "      <td>535.773018</td>\n",
       "      <td>278.533416</td>\n",
       "      <td>7.499570e+05</td>\n",
       "      <td>906.510705</td>\n",
       "    </tr>\n",
       "    <tr>\n",
       "      <th>min</th>\n",
       "      <td>166.000000</td>\n",
       "      <td>144.000000</td>\n",
       "      <td>2.822400e+04</td>\n",
       "      <td>60.767000</td>\n",
       "    </tr>\n",
       "    <tr>\n",
       "      <th>25%</th>\n",
       "      <td>640.000000</td>\n",
       "      <td>480.000000</td>\n",
       "      <td>3.072000e+05</td>\n",
       "      <td>577.028000</td>\n",
       "    </tr>\n",
       "    <tr>\n",
       "      <th>50%</th>\n",
       "      <td>1280.000000</td>\n",
       "      <td>720.000000</td>\n",
       "      <td>9.216000e+05</td>\n",
       "      <td>901.399000</td>\n",
       "    </tr>\n",
       "    <tr>\n",
       "      <th>75%</th>\n",
       "      <td>1920.000000</td>\n",
       "      <td>1080.000000</td>\n",
       "      <td>2.073600e+06</td>\n",
       "      <td>1695.138500</td>\n",
       "    </tr>\n",
       "    <tr>\n",
       "      <th>max</th>\n",
       "      <td>3840.000000</td>\n",
       "      <td>2160.000000</td>\n",
       "      <td>8.294400e+06</td>\n",
       "      <td>3599.419000</td>\n",
       "    </tr>\n",
       "  </tbody>\n",
       "</table>\n",
       "</div>"
      ],
      "text/plain": [
       "             width       height          area     duration\n",
       "count  8303.000000  8303.000000  8.303000e+03  8303.000000\n",
       "mean   1215.051909   707.280260  1.004648e+06  1263.227589\n",
       "std     535.773018   278.533416  7.499570e+05   906.510705\n",
       "min     166.000000   144.000000  2.822400e+04    60.767000\n",
       "25%     640.000000   480.000000  3.072000e+05   577.028000\n",
       "50%    1280.000000   720.000000  9.216000e+05   901.399000\n",
       "75%    1920.000000  1080.000000  2.073600e+06  1695.138500\n",
       "max    3840.000000  2160.000000  8.294400e+06  3599.419000"
      ]
     },
     "execution_count": 3,
     "metadata": {},
     "output_type": "execute_result"
    }
   ],
   "source": [
    "df.describe()"
   ]
  },
  {
   "cell_type": "code",
   "execution_count": 4,
   "id": "067cc8fb",
   "metadata": {},
   "outputs": [
    {
     "name": "stdout",
     "output_type": "stream",
     "text": [
      "Total length of footage: 121 days, 9:29:38.669664 (10488578.669664 seconds)\n"
     ]
    }
   ],
   "source": [
    "duration = df['duration'].sum()\n",
    "print(f\"Total length of footage: {timedelta(seconds=duration)} ({duration} seconds)\")"
   ]
  },
  {
   "cell_type": "code",
   "execution_count": 5,
   "id": "546699df",
   "metadata": {},
   "outputs": [
    {
     "data": {
      "image/png": "[encoded data removed]",
      "text/plain": [
       "<Figure size 648x360 with 1 Axes>"
      ]
     },
     "metadata": {
      "needs_background": "light"
     },
     "output_type": "display_data"
    }
   ],
   "source": [
    "height, bins = np.histogram(df['duration'].values, bins=10, range=(0, 3600))\n",
    "widths = bins[:-1] - bins[1:]\n",
    "labels = [str(timedelta(seconds=s))[:4] for s in bins[1:]]\n",
    "\n",
    "fig = plt.figure(figsize=(9, 5))\n",
    "plt.bar(bins[:-1], height, width=widths, edgecolor='black', tick_label=labels, align='edge')\n",
    "plt.title('Video distribution by Length')\n",
    "plt.xlabel('Video length')\n",
    "plt.show()"
   ]
  }
 ],
 "metadata": {
  "kernelspec": {
   "display_name": "Python 3 (ipykernel)",
   "language": "python",
   "name": "python3"
  },
  "language_info": {
   "codemirror_mode": {
    "name": "ipython",
    "version": 3
   },
   "file_extension": ".py",
   "mimetype": "text/x-python",
   "name": "python",
   "nbconvert_exporter": "python",
   "pygments_lexer": "ipython3",
   "version": "3.7.12"
  }
 },
 "nbformat": 4,
 "nbformat_minor": 5
}
