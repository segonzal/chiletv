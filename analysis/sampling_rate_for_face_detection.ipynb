{
 "cells": [
  {
   "cell_type": "markdown",
   "id": "3c8e58f9",
   "metadata": {},
   "source": [
    "# Sampling rate for Face Detection\n",
    "\n",
    "All videos were downloaded at 30 FPS. Using this frame rate for detection gives us a 3:1 speedup from real time. Considering the large amount of footage required to process, further speedup is required. Another improvement is related to a smooth transition between frames. A phenomenon called jittering."
   ]
  },
  {
   "cell_type": "code",
   "execution_count": 7,
   "id": "7b19df45",
   "metadata": {},
   "outputs": [
    {
     "name": "stdout",
     "output_type": "stream",
     "text": [
      "30FPS:\n",
      "    - Number of Files:  36\n",
      "    - Number of Tracks: 959\n",
      "    - Footage length:   12:10:29.802150\n",
      "    - Detection length: 6:53:36.965992\n",
      "    - Track length:     9:30:40.905744\n"
     ]
    }
   ],
   "source": [
    "%matplotlib inline\n",
    "import json\n",
    "from datetime import timedelta\n",
    "from pathlib import Path\n",
    "\n",
    "import numpy as np\n",
    "import matplotlib.pyplot as plt\n",
    "\n",
    "video_samples = [{'folder': r'../data/tracks@30FPS', 'label': '30FPS'}]\n",
    "\n",
    "for video_sample in video_samples:\n",
    "    video_sample['files'] = list(Path(video_sample['folder']).glob('*.tracks.json'))\n",
    "    \n",
    "    #video_sample['data'] = []\n",
    "    video_sample['tracks'] = []\n",
    "    \n",
    "    video_sample['widths'] = []\n",
    "    video_sample['heights'] = []\n",
    "    \n",
    "    video_sample['track_duration'] = []\n",
    "    video_sample['footage_duration'] = []\n",
    "    video_sample['detection_duration'] = []\n",
    "    \n",
    "    for i, track_file in enumerate(video_sample['files']):\n",
    "        with track_file.open('r', encoding='utf8') as fp:\n",
    "            video = json.load(fp)\n",
    "        \n",
    "        # video_sample['data'].append(video)\n",
    "        video_sample['widths'].append(video['width'])\n",
    "        video_sample['heights'].append(video['height'])\n",
    "        video_sample['footage_duration'].append(video['video_duration'])\n",
    "        video_sample['detection_duration'].append(video['detection_duration'])\n",
    "\n",
    "        for track in video['tracks'].values():\n",
    "            track['parent_video_idx'] = i\n",
    "            video_sample['tracks'].append(track)\n",
    "            video_sample['track_duration'].append(track['end_time'] - track['start_time'])\n",
    "    \n",
    "    video_sample['num_files'] = len(video_sample['files'])\n",
    "    video_sample['num_tracks'] = len(video_sample['tracks'])\n",
    "    \n",
    "    video_sample['total_track_duration'] = sum(video_sample['track_duration'])\n",
    "    video_sample['total_footage_duration'] = sum(video_sample['footage_duration'])\n",
    "    video_sample['total_detection_duration'] = sum(video_sample['detection_duration'])\n",
    "    \n",
    "    video_sample['td_total_track_duration'] = timedelta(seconds=video_sample['total_track_duration'])\n",
    "    video_sample['td_total_footage_duration'] = timedelta(seconds=video_sample['total_footage_duration'])\n",
    "    video_sample['td_total_detection_duration'] = timedelta(seconds=video_sample['total_detection_duration'])\n",
    "    \n",
    "    video_sample['widths'] = np.float32(video_sample['widths'])\n",
    "    video_sample['heights'] = np.float32(video_sample['heights'])\n",
    "    video_sample['track_duration'] = np.float32(video_sample['track_duration'])\n",
    "    video_sample['footage_duration'] = np.float32(video_sample['footage_duration'])\n",
    "    video_sample['detection_duration'] = np.float32(video_sample['detection_duration'])\n",
    "    \n",
    "    video_sample['areas'] = video_sample['widths'] * video_sample['heights']\n",
    "    video_sample['speedup'] = video_sample['footage_duration'] / video_sample['detection_duration']\n",
    "    \n",
    "    print(\"\"\"{label}:\n",
    "    - Number of Files:  {num_files}\n",
    "    - Number of Tracks: {num_tracks}\n",
    "    - Footage length:   {td_total_footage_duration}\n",
    "    - Detection length: {td_total_detection_duration}\n",
    "    - Track length:     {td_total_track_duration}\"\"\".format_map(video_sample))"
   ]
  },
  {
   "cell_type": "markdown",
   "id": "e125dcd7",
   "metadata": {},
   "source": [
    "We take a random sample of videos from the dataset. From these we take 5 second segments of detected bounding boxes. The 30 FPS samples will be our ground truth while subsamples of 15, 7, and 3FPS will be used as contrast. We will use the signal to noise ratio to check on the quality of the signals. We will use interpolation estrategies to complete the missing gaps in detection."
   ]
  },
  {
   "cell_type": "markdown",
   "id": "f3c6b209",
   "metadata": {},
   "source": [
    "## Speedup by lowering frame rate"
   ]
  },
  {
   "cell_type": "code",
   "execution_count": 8,
   "id": "3006a167",
   "metadata": {},
   "outputs": [
    {
     "data": {
      "image/png": "[encoded data removed]",
      "text/plain": [
       "<Figure size 432x288 with 1 Axes>"
      ]
     },
     "metadata": {
      "needs_background": "light"
     },
     "output_type": "display_data"
    }
   ],
   "source": [
    "fig = plt.figure()\n",
    "ax = plt.axes()\n",
    "\n",
    "for video_sample in video_samples:\n",
    "    area = np.float32(video_sample['areas'])\n",
    "    speedup = np.float32(video_sample['speedup'])\n",
    "    \n",
    "    # Order results by area\n",
    "    idx = np.argsort(area)\n",
    "    area = area[idx]\n",
    "    speedup = speedup[idx]\n",
    "    \n",
    "    ax.plot(area, speedup, label=video_sample['label'])\n",
    "\n",
    "fig.tight_layout()\n",
    "plt.xlabel('Area')\n",
    "plt.ylabel('Speedup')\n",
    "plt.legend()\n",
    "plt.show()\n",
    "\n",
    "# TODO: Linegraph Area vs Speedup with Frame Rate as color categories."
   ]
  },
  {
   "cell_type": "markdown",
   "id": "8b7f6c1c",
   "metadata": {},
   "source": [
    "## Interpolation Methods\n",
    "\n",
    "We try several interpolation methods and check the quality of the signal using the signal to noise ratio.\n",
    "Will compute the time-normalized difference on consecutive detected centroids, widht and height."
   ]
  },
  {
   "cell_type": "code",
   "execution_count": 46,
   "id": "5eaccd49",
   "metadata": {},
   "outputs": [
    {
     "data": {
      "image/png": "[encoded data removed]",
      "text/plain": [
       "<Figure size 432x288 with 1 Axes>"
      ]
     },
     "metadata": {
      "needs_background": "light"
     },
     "output_type": "display_data"
    }
   ],
   "source": [
    "SAMPLE_LENGTH = 5.0\n",
    "SAMPLE_NUM = 1000\n",
    "\n",
    "np.random.seed(0)\n",
    "\n",
    "fig = plt.figure()\n",
    "ax = plt.axes()\n",
    "\n",
    "for video_sample in video_samples:\n",
    "    sample = np.random.random((SAMPLE_NUM, 2))\n",
    "    sample_track = np.floor(sample[:, 0] * video_sample['num_tracks']).astype(int)\n",
    "    \n",
    "    times = []\n",
    "    delta_size = []\n",
    "    delta_center = []\n",
    "    \n",
    "    for i in sample_track:\n",
    "        track_data = video_sample['tracks'][i]\n",
    "        parent_video_idx = track_data['parent_video_idx']\n",
    "        \n",
    "        track_times = []\n",
    "        track_bboxes = []\n",
    "        \n",
    "        track_length = ((track_data['end_time'] - SAMPLE_LENGTH) - track_data['start_time'])\n",
    "        stime = track_data['start_time'] + sample[i, 1] * track_length\n",
    "        \n",
    "        for frame in track_data['data']:\n",
    "            if stime <= frame['time'] < stime + SAMPLE_LENGTH:\n",
    "                track_times.append(frame['time'])\n",
    "                track_bboxes.append(frame['bbox'])\n",
    "        \n",
    "        track_times = np.float32(track_times)\n",
    "        track_bboxes = np.float32(track_bboxes).reshape((-1, 2, 2))\n",
    "        \n",
    "        # Normalize bbox w/r to image size\n",
    "        track_bboxes[:, :, 0] /= video_sample['widths'][parent_video_idx]\n",
    "        track_bboxes[:, :, 1] /= video_sample['heights'][parent_video_idx]\n",
    "        \n",
    "        track_width = track_bboxes[:, 1, 0] - track_bboxes[:, 0, 0]\n",
    "        track_height = track_bboxes[:, 1, 1] - track_bboxes[:, 0, 1]\n",
    "        track_center_x = track_bboxes[:, 0, 0] + 0.5 * track_width\n",
    "        track_center_y = track_bboxes[:, 0, 1] + 0.5 * track_height\n",
    "        \n",
    "        track_delta_times = track_times[1:] - track_times[:-1]\n",
    "        track_delta_size = np.sqrt((track_width[1:] - track_width[:-1])**2 + (track_height[1:] - track_height[:-1])**2)\n",
    "        track_delta_center = np.sqrt((track_center_x[1:] - track_center_x[:-1])**2 + (track_center_y[1:] - track_center_y[:-1])**2)\n",
    "        \n",
    "        times.append(track_delta_times)\n",
    "        delta_size.append(track_delta_size)\n",
    "        delta_center.append(track_delta_center)\n",
    "    \n",
    "    times = np.concatenate(times)\n",
    "    delta_size = np.concatenate(delta_size)\n",
    "    delta_center = np.concatenate(delta_center)\n",
    "    \n",
    "    idx = np.argsort(times)\n",
    "    \n",
    "    times = times[idx]\n",
    "    delta_size = delta_size[idx]\n",
    "    delta_center = delta_center[idx]\n",
    "    \n",
    "    ax.scatter(times, delta_size, label=video_sample['label'])\n",
    "    # How much the center moves\n",
    "    # How much the width changes (Normalized by image width)\n",
    "    # How mch the height changes (Normalized by image height)\n",
    "\n",
    "fig.tight_layout()\n",
    "plt.show()"
   ]
  },
  {
   "cell_type": "code",
   "execution_count": null,
   "id": "fe5e74d8",
   "metadata": {},
   "outputs": [],
   "source": []
  }
 ],
 "metadata": {
  "kernelspec": {
   "display_name": "Python 3 (ipykernel)",
   "language": "python",
   "name": "python3"
  },
  "language_info": {
   "codemirror_mode": {
    "name": "ipython",
    "version": 3
   },
   "file_extension": ".py",
   "mimetype": "text/x-python",
   "name": "python",
   "nbconvert_exporter": "python",
   "pygments_lexer": "ipython3",
   "version": "3.7.12"
  }
 },
 "nbformat": 4,
 "nbformat_minor": 5
}
