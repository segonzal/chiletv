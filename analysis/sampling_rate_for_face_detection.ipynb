{
 "cells": [
  {
   "cell_type": "markdown",
   "id": "3c8e58f9",
   "metadata": {},
   "source": [
    "# Sampling rate for Face Detection\n",
    "\n",
    "All videos were downloaded at 30 FPS. Using this frame rate for detection gives us a 3:1 speedup from real time. Considering the large amount of footage required to process, further speedup is required. Another improvement is related to a smooth transition between frames. A phenomenon called jittering."
   ]
  },
  {
   "cell_type": "code",
   "execution_count": 1,
   "id": "7f470050",
   "metadata": {},
   "outputs": [],
   "source": [
    "%matplotlib inline\n",
    "import json\n",
    "from datetime import timedelta\n",
    "from pathlib import Path\n",
    "\n",
    "import numpy as np\n",
    "import matplotlib.pyplot as plt\n",
    "\n",
    "SAMPLE_LENGTH = 5.0\n",
    "SAMPLE_NUM = 1000\n",
    "\n",
    "np.random.seed(0)\n",
    "\n",
    "experiments = [\n",
    "    {'folder': r'D:/downloads/tracks@30FPS', 'label': '30FPS'},\n",
    "]"
   ]
  },
  {
   "cell_type": "code",
   "execution_count": 2,
   "id": "7b19df45",
   "metadata": {},
   "outputs": [
    {
     "name": "stdout",
     "output_type": "stream",
     "text": [
      "Total video length: 1:10:54.566667\n",
      "Total time detecting: 0:43:36.191178\n"
     ]
    }
   ],
   "source": [
    "data = {}\n",
    "\n",
    "for e in experiments:\n",
    "    d = dict(video_length=[], time_detecting=[], width=[], height=[])\n",
    "    for track_file in Path(e['folder']).glob('**/*.tracks.json'):\n",
    "        with track_file.open('r', encoding='utf8') as fp:\n",
    "            track_file = json.load(fp)\n",
    "        d['video_length'].append(track_file['video_duration'])\n",
    "        d['time_detecting'].append(track_file['detection_duration'])\n",
    "        d['width'].append(track_file['width'])\n",
    "        d['height'].append(track_file['height'])\n",
    "    data[e['label']] = d\n",
    "\n",
    "\n",
    "print('Total video length:', timedelta(seconds=sum(data[experiments[0]['label']]['video_length'])))\n",
    "print('Total time detecting:', timedelta(seconds=sum(data[experiments[0]['label']]['time_detecting'])))"
   ]
  },
  {
   "cell_type": "markdown",
   "id": "e125dcd7",
   "metadata": {},
   "source": [
    "We take a random sample of videos from the dataset. From these we take 5 second segments of detected bounding boxes. The 30 FPS samples will be our ground truth while subsamples of 15, 7, and 3FPS will be used as contrast. We will use the signal to noise ratio to check on the quality of the signals. We will use interpolation estrategies to complete the missing gaps in detection."
   ]
  },
  {
   "cell_type": "markdown",
   "id": "f3c6b209",
   "metadata": {},
   "source": [
    "## Speedup by lowering frame rate"
   ]
  },
  {
   "cell_type": "code",
   "execution_count": 3,
   "id": "3006a167",
   "metadata": {},
   "outputs": [
    {
     "data": {
      "image/png": "[encoded data removed]",
      "text/plain": [
       "<Figure size 432x288 with 1 Axes>"
      ]
     },
     "metadata": {
      "needs_background": "light"
     },
     "output_type": "display_data"
    }
   ],
   "source": [
    "fig = plt.figure()\n",
    "ax = plt.axes()\n",
    "\n",
    "for label, d in data.items():\n",
    "    area = np.float32(d['width']) * np.float32(d['height'])\n",
    "    speedup = np.float32(d['video_length']) / np.float32(d['time_detecting'])\n",
    "    \n",
    "    # Order results by area\n",
    "    idx = np.argsort(area)\n",
    "    area = area[idx]\n",
    "    speedup = speedup[idx]\n",
    "    \n",
    "    ax.plot(area, speedup, label=label)\n",
    "\n",
    "fig.tight_layout()\n",
    "plt.xlabel('Area')\n",
    "plt.ylabel('Speedup')\n",
    "plt.legend()\n",
    "plt.show()"
   ]
  },
  {
   "cell_type": "markdown",
   "id": "8b7f6c1c",
   "metadata": {},
   "source": [
    "## Interpolation Methods\n",
    "\n",
    "We try several interpolation methods and check the quality of the signal using the signal to noise ratio.\n",
    "Will compute the time-normalized difference on consecutive detected centroids, widht and height."
   ]
  },
  {
   "cell_type": "code",
   "execution_count": null,
   "id": "fe5e74d8",
   "metadata": {},
   "outputs": [],
   "source": []
  }
 ],
 "metadata": {
  "kernelspec": {
   "display_name": "Python 3 (ipykernel)",
   "language": "python",
   "name": "python3"
  },
  "language_info": {
   "codemirror_mode": {
    "name": "ipython",
    "version": 3
   },
   "file_extension": ".py",
   "mimetype": "text/x-python",
   "name": "python",
   "nbconvert_exporter": "python",
   "pygments_lexer": "ipython3",
   "version": "3.7.12"
  }
 },
 "nbformat": 4,
 "nbformat_minor": 5
}
