{
 "cells": [
  {
   "cell_type": "markdown",
   "id": "50c2333f",
   "metadata": {},
   "source": [
    "# Number of tracks vs frame_rate, frame_scale and frame_threshold"
   ]
  },
  {
   "cell_type": "code",
   "execution_count": null,
   "id": "1fbb9e1c",
   "metadata": {},
   "outputs": [],
   "source": []
  }
 ],
 "metadata": {
  "kernelspec": {
   "display_name": "Python 3 (ipykernel)",
   "language": "python",
   "name": "python3"
  },
  "language_info": {
   "codemirror_mode": {
    "name": "ipython",
    "version": 3
   },
   "file_extension": ".py",
   "mimetype": "text/x-python",
   "name": "python",
   "nbconvert_exporter": "python",
   "pygments_lexer": "ipython3",
   "version": "3.7.12"
  }
 },
 "nbformat": 4,
 "nbformat_minor": 5
}
