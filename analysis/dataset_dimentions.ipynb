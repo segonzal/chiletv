{
 "cells": [
  {
   "cell_type": "markdown",
   "id": "b14e1b8e",
   "metadata": {},
   "source": [
    "# Dataset dimentions\n",
    "On this notebook we analize the downloaded videos before processing them.\n",
    "\n",
    "### Method\n",
    "Videos more than a minute and less than an hour were downloaded. All videos were re-coded to use the *h264* codec with a frame rate of 30FPS, while the audio used the *pcm_s16le* codec with a bitrate of 16k mono-channelled audio.\n",
    "\n",
    "### Results\n",
    "The downloaded videos amount to 8303 files, adding up to 121 days and 9:29:38 hours. Most videos have a duration around the 15 minute mark. The audio and video channels were separated and re-coded before face detection. Accounting for the video distribution by the frame dimensions (Fig. \\[video_dist_area]) the 640x480 resolution is chosen as the upper threshold for resizing, as 75% of the videos lie above this threshold."
   ]
  },
  {
   "cell_type": "code",
   "execution_count": 1,
   "id": "0a82a452",
   "metadata": {},
   "outputs": [],
   "source": [
    "%matplotlib inline\n",
    "\n",
    "from pathlib import Path\n",
    "from datetime import timedelta\n",
    "from itertools import islice\n",
    "\n",
    "import numpy as np\n",
    "import pandas as pd\n",
    "import matplotlib.pyplot as plt"
   ]
  },
  {
   "cell_type": "code",
   "execution_count": 2,
   "id": "5dd1d189",
   "metadata": {
    "scrolled": true
   },
   "outputs": [
    {
     "name": "stdout",
     "output_type": "stream",
     "text": [
      "Total length of footage: 121 days, 9:29:38.667000 (10488578.667 seconds)\n"
     ]
    },
    {
     "data": {
      "text/html": [
       "<div>\n",
       "<style scoped>\n",
       "    .dataframe tbody tr th:only-of-type {\n",
       "        vertical-align: middle;\n",
       "    }\n",
       "\n",
       "    .dataframe tbody tr th {\n",
       "        vertical-align: top;\n",
       "    }\n",
       "\n",
       "    .dataframe thead th {\n",
       "        text-align: right;\n",
       "    }\n",
       "</style>\n",
       "<table border=\"1\" class=\"dataframe\">\n",
       "  <thead>\n",
       "    <tr style=\"text-align: right;\">\n",
       "      <th></th>\n",
       "      <th>video_id</th>\n",
       "      <th>width</th>\n",
       "      <th>height</th>\n",
       "      <th>duration</th>\n",
       "    </tr>\n",
       "  </thead>\n",
       "  <tbody>\n",
       "    <tr>\n",
       "      <th>0</th>\n",
       "      <td>2VyGGNnp_BA</td>\n",
       "      <td>1280</td>\n",
       "      <td>720</td>\n",
       "      <td>60.767</td>\n",
       "    </tr>\n",
       "    <tr>\n",
       "      <th>1</th>\n",
       "      <td>V2PFuZQK12s</td>\n",
       "      <td>654</td>\n",
       "      <td>480</td>\n",
       "      <td>322.549</td>\n",
       "    </tr>\n",
       "    <tr>\n",
       "      <th>2</th>\n",
       "      <td>j-LMcmS7QT0</td>\n",
       "      <td>1280</td>\n",
       "      <td>720</td>\n",
       "      <td>322.688</td>\n",
       "    </tr>\n",
       "    <tr>\n",
       "      <th>3</th>\n",
       "      <td>WET2G_JzQyA</td>\n",
       "      <td>1920</td>\n",
       "      <td>1080</td>\n",
       "      <td>322.804</td>\n",
       "    </tr>\n",
       "    <tr>\n",
       "      <th>4</th>\n",
       "      <td>ZBVp8uDwfbI</td>\n",
       "      <td>320</td>\n",
       "      <td>240</td>\n",
       "      <td>322.873</td>\n",
       "    </tr>\n",
       "  </tbody>\n",
       "</table>\n",
       "</div>"
      ],
      "text/plain": [
       "      video_id  width  height  duration\n",
       "0  2VyGGNnp_BA   1280     720    60.767\n",
       "1  V2PFuZQK12s    654     480   322.549\n",
       "2  j-LMcmS7QT0   1280     720   322.688\n",
       "3  WET2G_JzQyA   1920    1080   322.804\n",
       "4  ZBVp8uDwfbI    320     240   322.873"
      ]
     },
     "execution_count": 2,
     "metadata": {},
     "output_type": "execute_result"
    }
   ],
   "source": [
    "video_src = Path('../data/dataset_dimentions.csv')\n",
    "column_types = [('video_id', str), ('width', int), ('height', int), ('duration', float)]\n",
    "df = pd.read_csv(video_src, index_col=0, dtype=dict(column_types))\n",
    "\n",
    "duration = df['duration'].sum()\n",
    "print(f\"Total length of footage: {timedelta(seconds=duration)} ({duration} seconds)\")\n",
    "df.head()"
   ]
  },
  {
   "cell_type": "code",
   "execution_count": 3,
   "id": "546699df",
   "metadata": {},
   "outputs": [
    {
     "data": {
      "image/png": "[encoded data removed]",
      "text/plain": [
       "<Figure size 648x360 with 1 Axes>"
      ]
     },
     "metadata": {
      "needs_background": "light"
     },
     "output_type": "display_data"
    }
   ],
   "source": [
    "hist_range = (0, 3600)\n",
    "height, bins = np.histogram(df['duration'].values, bins=10, range=hist_range)\n",
    "widths = bins[1:] - bins[:-1]\n",
    "\n",
    "fig = plt.figure(figsize=(9, 5))\n",
    "plt.bar(bins[:-1], height, width=widths, edgecolor='black', align='edge')\n",
    "\n",
    "plt.xlabel('Video length')\n",
    "plt.xticks(bins, [str(timedelta(seconds=s))[:7] for s in bins], rotation=45)\n",
    "plt.title('Video distribution by Length')\n",
    "plt.savefig('images/video_dist_length.svg', bbox_inches='tight')\n",
    "plt.savefig('images/video_dist_length.png', bbox_inches='tight')\n",
    "plt.show()"
   ]
  },
  {
   "cell_type": "markdown",
   "id": "21c6288d",
   "metadata": {},
   "source": [
    "**Figure \\[video_dist_length]:** Distribution of the downloaded videos by their duration. Most videos last less than 30 minutes."
   ]
  },
  {
   "cell_type": "code",
   "execution_count": 4,
   "id": "574837e2",
   "metadata": {},
   "outputs": [
    {
     "data": {
      "text/html": [
       "<div>\n",
       "<style scoped>\n",
       "    .dataframe tbody tr th:only-of-type {\n",
       "        vertical-align: middle;\n",
       "    }\n",
       "\n",
       "    .dataframe tbody tr th {\n",
       "        vertical-align: top;\n",
       "    }\n",
       "\n",
       "    .dataframe thead th {\n",
       "        text-align: right;\n",
       "    }\n",
       "</style>\n",
       "<table border=\"1\" class=\"dataframe\">\n",
       "  <thead>\n",
       "    <tr style=\"text-align: right;\">\n",
       "      <th></th>\n",
       "      <th>width</th>\n",
       "      <th>height</th>\n",
       "      <th>count</th>\n",
       "      <th>duration</th>\n",
       "    </tr>\n",
       "  </thead>\n",
       "  <tbody>\n",
       "    <tr>\n",
       "      <th>0</th>\n",
       "      <td>1280</td>\n",
       "      <td>720</td>\n",
       "      <td>3168</td>\n",
       "      <td>4024253.147</td>\n",
       "    </tr>\n",
       "    <tr>\n",
       "      <th>1</th>\n",
       "      <td>1920</td>\n",
       "      <td>1080</td>\n",
       "      <td>2205</td>\n",
       "      <td>3004311.219</td>\n",
       "    </tr>\n",
       "    <tr>\n",
       "      <th>2</th>\n",
       "      <td>640</td>\n",
       "      <td>360</td>\n",
       "      <td>662</td>\n",
       "      <td>861107.187</td>\n",
       "    </tr>\n",
       "    <tr>\n",
       "      <th>3</th>\n",
       "      <td>640</td>\n",
       "      <td>480</td>\n",
       "      <td>485</td>\n",
       "      <td>603316.993</td>\n",
       "    </tr>\n",
       "    <tr>\n",
       "      <th>4</th>\n",
       "      <td>480</td>\n",
       "      <td>360</td>\n",
       "      <td>297</td>\n",
       "      <td>282353.799</td>\n",
       "    </tr>\n",
       "  </tbody>\n",
       "</table>\n",
       "</div>"
      ],
      "text/plain": [
       "   width  height  count     duration\n",
       "0   1280     720   3168  4024253.147\n",
       "1   1920    1080   2205  3004311.219\n",
       "2    640     360    662   861107.187\n",
       "3    640     480    485   603316.993\n",
       "4    480     360    297   282353.799"
      ]
     },
     "execution_count": 4,
     "metadata": {},
     "output_type": "execute_result"
    }
   ],
   "source": [
    "# Find the most frequent resolutions\n",
    "df_area = df[['video_id', 'width', 'height', 'duration']]\n",
    "df_area['video_id'] = 1\n",
    "df_area = df_area.groupby(['width', 'height']).agg(np.sum)\n",
    "df_area.reset_index(inplace=True)\n",
    "df_area.rename(columns = {'video_id':'count'}, inplace=True)\n",
    "\n",
    "df_area.sort_values('count', ascending=False, inplace=True, ignore_index=True)\n",
    "df_area.head()"
   ]
  },
  {
   "cell_type": "code",
   "execution_count": 5,
   "id": "58caf1d5",
   "metadata": {},
   "outputs": [],
   "source": [
    "width, height, count, duration = df_area.values.T\n",
    "idx = np.argsort(width * height)\n",
    "\n",
    "width = width[idx].astype(int)\n",
    "height = height[idx].astype(int)\n",
    "count = count[idx]\n",
    "duration = duration[idx]"
   ]
  },
  {
   "cell_type": "code",
   "execution_count": 6,
   "id": "b0b2b4c5",
   "metadata": {},
   "outputs": [
    {
     "data": {
      "image/png": "[encoded data removed]",
      "text/plain": [
       "<Figure size 648x360 with 1 Axes>"
      ]
     },
     "metadata": {
      "needs_background": "light"
     },
     "output_type": "display_data"
    }
   ],
   "source": [
    "def plot(width, height, yvalues, title, top):\n",
    "    fig = plt.figure(figsize=(9, 5))\n",
    "\n",
    "    plt.scatter(width * height, yvalues)\n",
    "    \n",
    "    idx = np.argsort(yvalues)[-top:]\n",
    "    width = width[idx]\n",
    "    height = height[idx]\n",
    "    yvalues = yvalues[idx]\n",
    "    \n",
    "    for w, h, c in zip(width, height, yvalues):\n",
    "        plt.text(w * h, c, f\"{w}x{h}\")\n",
    "\n",
    "    plt.xscale('log')\n",
    "    plt.yscale('log')\n",
    "    plt.xlabel('Area (log)')\n",
    "    plt.title(title)\n",
    "\n",
    "plot(width, height, count, 'Video distribution by Area', 5)\n",
    "plt.show()"
   ]
  },
  {
   "cell_type": "code",
   "execution_count": 7,
   "id": "ff45bcd0",
   "metadata": {},
   "outputs": [
    {
     "data": {
      "image/png": "[encoded data removed]",
      "text/plain": [
       "<Figure size 648x360 with 1 Axes>"
      ]
     },
     "metadata": {
      "needs_background": "light"
     },
     "output_type": "display_data"
    }
   ],
   "source": [
    "def plot(xvalues, count, vertical=[]):\n",
    "    agg_count = np.cumsum(count)\n",
    "    \n",
    "    fig = plt.figure(figsize=(9, 5))\n",
    "    ax = plt.axes()\n",
    "    \n",
    "    ax.plot(xvalues, agg_count, linestyle='--', marker='x')\n",
    "    \n",
    "    max_yval = agg_count.max()\n",
    "    ypercent = np.float32([0, 0.25, 0.5, 0.75, 1])\n",
    "    yticks = (ypercent * max_yval).astype(int)\n",
    "    ylabels = [f\"{v} ({p:.0%})\" for v, p in zip(yticks, ypercent)]\n",
    "    \n",
    "    for v in yticks[1:-1]:\n",
    "        ax.axhline(y=v, color='#ff000055', linestyle=':')\n",
    "    \n",
    "    for v in vertical:\n",
    "        ax.axvline(x=v**2, color='#0000ff55', linestyle='--')\n",
    "        ax.text(v**2, 0, f\"{v}x{v}\", ha='center', color='#0000ff55', backgroundcolor='white')\n",
    "        \n",
    "    # X-AXIS\n",
    "    idx = np.concatenate([[0], np.argsort(count)[-7:], [-1]])\n",
    "    xticks = xvalues[idx]\n",
    "    xlabels = [f\"{width[i]}x{height[i]}\" for i in idx]\n",
    "    \n",
    "    ax.set_xscale('log')\n",
    "    ax.set_xlabel('Area (log)')\n",
    "    ax.set_xticks(xticks, xlabels, rotation=45)\n",
    "    \n",
    "    # Y-AXIS COUNT\n",
    "    # ax.set_yscale('log')\n",
    "    ax.set_yticks(yticks, ylabels)\n",
    "\n",
    "plot(width * height, count, vertical=[550])\n",
    "    \n",
    "plt.title('Video agreggate count by Area')\n",
    "plt.savefig('images/video_dist_area.svg', bbox_inches='tight')\n",
    "plt.savefig('images/video_dist_area.png', bbox_inches='tight')\n",
    "plt.show()"
   ]
  },
  {
   "cell_type": "markdown",
   "id": "3b893d3a",
   "metadata": {},
   "source": [
    "**Figure \\[video_dist_area]:** Aggregate count of all downloaded videos by the total area in pixels. The 25, 50 and 75 percent of total files plus the dimensions that correspond to the area value for which these boundaries are crossed are highlighted by the horizontal lines. Around 25% of the videos have a resolution smaller than 550x550."
   ]
  }
 ],
 "metadata": {
  "kernelspec": {
   "display_name": "Python 3 (ipykernel)",
   "language": "python",
   "name": "python3"
  },
  "language_info": {
   "codemirror_mode": {
    "name": "ipython",
    "version": 3
   },
   "file_extension": ".py",
   "mimetype": "text/x-python",
   "name": "python",
   "nbconvert_exporter": "python",
   "pygments_lexer": "ipython3",
   "version": "3.7.12"
  }
 },
 "nbformat": 4,
 "nbformat_minor": 5
}
